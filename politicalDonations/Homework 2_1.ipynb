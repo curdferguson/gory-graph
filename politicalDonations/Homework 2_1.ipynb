{
 "cells": [
  {
   "cell_type": "markdown",
   "id": "52a8d808",
   "metadata": {},
   "source": [
    "### Assignment 3: Graph Visualization\n",
    "\n",
    "#### Summer 2021\n",
    "**Authors:** GOAT Team (Estaban Aramayo, Ethan Haley, Claire Meyer, and Tyler Frankenburg) "
   ]
  },
  {
   "cell_type": "markdown",
   "id": "bff375f6",
   "metadata": {},
   "source": [
    "This assignment looks at a CSV of Donor + Donor Recipient Data from OpenSecret, which tracks political donations. This data is available [here](https://docs.google.com/spreadsheets/d/1PPjz-U1LueQYHaVCU8iCYf3O4lc-OYN7uOf3OknhYxo/edit#gid=1325242852). "
   ]
  },
  {
   "cell_type": "code",
   "execution_count": 7,
   "id": "61af6ac4",
   "metadata": {},
   "outputs": [],
   "source": [
    "import networkx as nx\n",
    "import pandas\n",
    "import matplotlib.pyplot as plt"
   ]
  },
  {
   "cell_type": "markdown",
   "id": "b1361c2e",
   "metadata": {},
   "source": [
    "First we import the CSV and do a couple quick checks to see the shape and form of the data. "
   ]
  },
  {
   "cell_type": "code",
   "execution_count": 8,
   "id": "de387053",
   "metadata": {},
   "outputs": [
    {
     "data": {
      "text/html": [
       "<div>\n",
       "<style scoped>\n",
       "    .dataframe tbody tr th:only-of-type {\n",
       "        vertical-align: middle;\n",
       "    }\n",
       "\n",
       "    .dataframe tbody tr th {\n",
       "        vertical-align: top;\n",
       "    }\n",
       "\n",
       "    .dataframe thead th {\n",
       "        text-align: right;\n",
       "    }\n",
       "</style>\n",
       "<table border=\"1\" class=\"dataframe\">\n",
       "  <thead>\n",
       "    <tr style=\"text-align: right;\">\n",
       "      <th></th>\n",
       "      <th>PAC</th>\n",
       "      <th>CID</th>\n",
       "      <th>CRPName</th>\n",
       "      <th>Distid</th>\n",
       "      <th>Total</th>\n",
       "      <th>Unnamed: 5</th>\n",
       "      <th>Unnamed: 6</th>\n",
       "    </tr>\n",
       "  </thead>\n",
       "  <tbody>\n",
       "    <tr>\n",
       "      <th>0</th>\n",
       "      <td>American Medical Assn</td>\n",
       "      <td>N00025219</td>\n",
       "      <td>Burgess, Michael</td>\n",
       "      <td>TX26</td>\n",
       "      <td>$20,000</td>\n",
       "      <td>NaN</td>\n",
       "      <td>NaN</td>\n",
       "    </tr>\n",
       "    <tr>\n",
       "      <th>1</th>\n",
       "      <td>American Medical Assn</td>\n",
       "      <td>N00028152</td>\n",
       "      <td>McCarthy, Kevin</td>\n",
       "      <td>CA23</td>\n",
       "      <td>$20,000</td>\n",
       "      <td>NaN</td>\n",
       "      <td>Direct contributions data covers the 2020 elec...</td>\n",
       "    </tr>\n",
       "    <tr>\n",
       "      <th>2</th>\n",
       "      <td>American Dental Assn</td>\n",
       "      <td>N00005736</td>\n",
       "      <td>Babin, Brian</td>\n",
       "      <td>TX36</td>\n",
       "      <td>$20,000</td>\n",
       "      <td>NaN</td>\n",
       "      <td>NaN</td>\n",
       "    </tr>\n",
       "    <tr>\n",
       "      <th>3</th>\n",
       "      <td>American Dental Assn</td>\n",
       "      <td>N00025219</td>\n",
       "      <td>Burgess, Michael</td>\n",
       "      <td>TX26</td>\n",
       "      <td>$20,000</td>\n",
       "      <td>NaN</td>\n",
       "      <td>NaN</td>\n",
       "    </tr>\n",
       "    <tr>\n",
       "      <th>4</th>\n",
       "      <td>American Dental Assn</td>\n",
       "      <td>N00035346</td>\n",
       "      <td>Carter, Buddy</td>\n",
       "      <td>GA01</td>\n",
       "      <td>$17,500</td>\n",
       "      <td>NaN</td>\n",
       "      <td>NaN</td>\n",
       "    </tr>\n",
       "  </tbody>\n",
       "</table>\n",
       "</div>"
      ],
      "text/plain": [
       "                     PAC        CID           CRPName Distid    Total  \\\n",
       "0  American Medical Assn  N00025219  Burgess, Michael   TX26  $20,000   \n",
       "1  American Medical Assn  N00028152   McCarthy, Kevin   CA23  $20,000   \n",
       "2   American Dental Assn  N00005736      Babin, Brian   TX36  $20,000   \n",
       "3   American Dental Assn  N00025219  Burgess, Michael   TX26  $20,000   \n",
       "4   American Dental Assn  N00035346     Carter, Buddy   GA01  $17,500   \n",
       "\n",
       "   Unnamed: 5                                         Unnamed: 6  \n",
       "0         NaN                                                NaN  \n",
       "1         NaN  Direct contributions data covers the 2020 elec...  \n",
       "2         NaN                                                NaN  \n",
       "3         NaN                                                NaN  \n",
       "4         NaN                                                NaN  "
      ]
     },
     "execution_count": 8,
     "metadata": {},
     "output_type": "execute_result"
    }
   ],
   "source": [
    "df = pandas.read_csv('donor_members.csv')\n",
    "df.head()"
   ]
  },
  {
   "cell_type": "code",
   "execution_count": 9,
   "id": "23a96a19",
   "metadata": {},
   "outputs": [
    {
     "data": {
      "text/plain": [
       "(2686, 7)"
      ]
     },
     "execution_count": 9,
     "metadata": {},
     "output_type": "execute_result"
    }
   ],
   "source": [
    "df.shape"
   ]
  },
  {
   "cell_type": "markdown",
   "id": "9334dbbd",
   "metadata": {},
   "source": [
    "Then, we use the `from_pandas_dataframe` function to create a networkx graph from the dataframe. [Source](https://networkx.org/documentation/networkx-1.10/reference/generated/networkx.convert_matrix.from_pandas_dataframe.html). "
   ]
  },
  {
   "cell_type": "code",
   "execution_count": 10,
   "id": "f8d02be9",
   "metadata": {},
   "outputs": [],
   "source": [
    "test_graph = nx.from_pandas_dataframe(df, source=\"PAC\", target=\"CRPName\",\n",
    "                                  edge_attr=[\"Total\"])"
   ]
  },
  {
   "cell_type": "code",
   "execution_count": 11,
   "id": "5fa113e4",
   "metadata": {},
   "outputs": [
    {
     "name": "stdout",
     "output_type": "stream",
     "text": [
      "Name: \n",
      "Type: Graph\n",
      "Number of nodes: 712\n",
      "Number of edges: 2675\n",
      "Average degree:   7.5140\n"
     ]
    }
   ],
   "source": [
    "print(nx.info(test_graph))"
   ]
  },
  {
   "cell_type": "markdown",
   "id": "a692eb79",
   "metadata": {},
   "source": [
    "For this assignment we want to explore diameter. However, diameter requires a connected graph. First, let's check if this graph is, with the `is_connected` function. [Source](https://networkx.org/documentation/stable/reference/algorithms/generated/networkx.algorithms.components.is_connected.html#networkx.algorithms.components.is_connected)."
   ]
  },
  {
   "cell_type": "code",
   "execution_count": 12,
   "id": "09c54082",
   "metadata": {},
   "outputs": [
    {
     "name": "stdout",
     "output_type": "stream",
     "text": [
      "False\n"
     ]
    }
   ],
   "source": [
    "print(nx.is_connected(test_graph))"
   ]
  },
  {
   "cell_type": "markdown",
   "id": "b41c9d8a",
   "metadata": {},
   "source": [
    "This graph is not connected. We can look for subgraphs that are however, and focus measurement there. The `connected_component_subgraphs` function generates any available connected subgraphs. [Source](https://networkx.org/documentation/networkx-1.9.1/reference/generated/networkx.algorithms.components.connected.connected_component_subgraphs.html)."
   ]
  },
  {
   "cell_type": "code",
   "execution_count": 13,
   "id": "8c64026c",
   "metadata": {},
   "outputs": [
    {
     "name": "stdout",
     "output_type": "stream",
     "text": [
      "There are  2  connected subgraphs in this graph.\n"
     ]
    }
   ],
   "source": [
    "graphs = list(nx.connected_component_subgraphs(test_graph))\n",
    "print(\"There are \", len(graphs), \" connected subgraphs in this graph.\")"
   ]
  },
  {
   "cell_type": "markdown",
   "id": "dd43191e",
   "metadata": {},
   "source": [
    "Let's compare the size of these subgraphs by the number of nodes."
   ]
  },
  {
   "cell_type": "code",
   "execution_count": 14,
   "id": "14059415",
   "metadata": {},
   "outputs": [
    {
     "name": "stdout",
     "output_type": "stream",
     "text": [
      "The first subgraph has  710  nodes.\n",
      "The second subgraph has  2  nodes.\n"
     ]
    }
   ],
   "source": [
    "print(\"The first subgraph has \",len(graphs[0].nodes()),\" nodes.\")\n",
    "print(\"The second subgraph has \",len(graphs[1].nodes()),\" nodes.\")"
   ]
  },
  {
   "cell_type": "markdown",
   "id": "0a91ff23",
   "metadata": {},
   "source": [
    "Let's select the larger of the two, and explore further."
   ]
  },
  {
   "cell_type": "code",
   "execution_count": 15,
   "id": "e35bb4fb",
   "metadata": {},
   "outputs": [],
   "source": [
    "subgraph_test = graphs[0]"
   ]
  },
  {
   "cell_type": "code",
   "execution_count": 19,
   "id": "9b364bc1",
   "metadata": {},
   "outputs": [
    {
     "ename": "AttributeError",
     "evalue": "module 'matplotlib.cbook' has no attribute 'iterable'",
     "output_type": "error",
     "traceback": [
      "\u001b[0;31m---------------------------------------------------------------------------\u001b[0m",
      "\u001b[0;31mAttributeError\u001b[0m                            Traceback (most recent call last)",
      "\u001b[0;32m<ipython-input-19-f63973b7e2d9>\u001b[0m in \u001b[0;36m<module>\u001b[0;34m\u001b[0m\n\u001b[0;32m----> 1\u001b[0;31m \u001b[0mnx\u001b[0m\u001b[0;34m.\u001b[0m\u001b[0mdraw_networkx\u001b[0m\u001b[0;34m(\u001b[0m\u001b[0msubgraph_test\u001b[0m\u001b[0;34m)\u001b[0m\u001b[0;34m\u001b[0m\u001b[0;34m\u001b[0m\u001b[0m\n\u001b[0m",
      "\u001b[0;32m~/opt/anaconda3/envs/sps620env/lib/python3.7/site-packages/networkx/drawing/nx_pylab.py\u001b[0m in \u001b[0;36mdraw_networkx\u001b[0;34m(G, pos, arrows, with_labels, **kwds)\u001b[0m\n\u001b[1;32m    274\u001b[0m \u001b[0;34m\u001b[0m\u001b[0m\n\u001b[1;32m    275\u001b[0m     \u001b[0mnode_collection\u001b[0m \u001b[0;34m=\u001b[0m \u001b[0mdraw_networkx_nodes\u001b[0m\u001b[0;34m(\u001b[0m\u001b[0mG\u001b[0m\u001b[0;34m,\u001b[0m \u001b[0mpos\u001b[0m\u001b[0;34m,\u001b[0m \u001b[0;34m**\u001b[0m\u001b[0mkwds\u001b[0m\u001b[0;34m)\u001b[0m\u001b[0;34m\u001b[0m\u001b[0;34m\u001b[0m\u001b[0m\n\u001b[0;32m--> 276\u001b[0;31m     \u001b[0medge_collection\u001b[0m \u001b[0;34m=\u001b[0m \u001b[0mdraw_networkx_edges\u001b[0m\u001b[0;34m(\u001b[0m\u001b[0mG\u001b[0m\u001b[0;34m,\u001b[0m \u001b[0mpos\u001b[0m\u001b[0;34m,\u001b[0m \u001b[0marrows\u001b[0m\u001b[0;34m=\u001b[0m\u001b[0marrows\u001b[0m\u001b[0;34m,\u001b[0m \u001b[0;34m**\u001b[0m\u001b[0mkwds\u001b[0m\u001b[0;34m)\u001b[0m\u001b[0;34m\u001b[0m\u001b[0;34m\u001b[0m\u001b[0m\n\u001b[0m\u001b[1;32m    277\u001b[0m     \u001b[0;32mif\u001b[0m \u001b[0mwith_labels\u001b[0m\u001b[0;34m:\u001b[0m\u001b[0;34m\u001b[0m\u001b[0;34m\u001b[0m\u001b[0m\n\u001b[1;32m    278\u001b[0m         \u001b[0mdraw_networkx_labels\u001b[0m\u001b[0;34m(\u001b[0m\u001b[0mG\u001b[0m\u001b[0;34m,\u001b[0m \u001b[0mpos\u001b[0m\u001b[0;34m,\u001b[0m \u001b[0;34m**\u001b[0m\u001b[0mkwds\u001b[0m\u001b[0;34m)\u001b[0m\u001b[0;34m\u001b[0m\u001b[0;34m\u001b[0m\u001b[0m\n",
      "\u001b[0;32m~/opt/anaconda3/envs/sps620env/lib/python3.7/site-packages/networkx/drawing/nx_pylab.py\u001b[0m in \u001b[0;36mdraw_networkx_edges\u001b[0;34m(G, pos, edgelist, width, edge_color, style, alpha, edge_cmap, edge_vmin, edge_vmax, ax, arrows, label, **kwds)\u001b[0m\n\u001b[1;32m    515\u001b[0m     \u001b[0medge_pos\u001b[0m \u001b[0;34m=\u001b[0m \u001b[0mnumpy\u001b[0m\u001b[0;34m.\u001b[0m\u001b[0masarray\u001b[0m\u001b[0;34m(\u001b[0m\u001b[0;34m[\u001b[0m\u001b[0;34m(\u001b[0m\u001b[0mpos\u001b[0m\u001b[0;34m[\u001b[0m\u001b[0me\u001b[0m\u001b[0;34m[\u001b[0m\u001b[0;36m0\u001b[0m\u001b[0;34m]\u001b[0m\u001b[0;34m]\u001b[0m\u001b[0;34m,\u001b[0m \u001b[0mpos\u001b[0m\u001b[0;34m[\u001b[0m\u001b[0me\u001b[0m\u001b[0;34m[\u001b[0m\u001b[0;36m1\u001b[0m\u001b[0;34m]\u001b[0m\u001b[0;34m]\u001b[0m\u001b[0;34m)\u001b[0m \u001b[0;32mfor\u001b[0m \u001b[0me\u001b[0m \u001b[0;32min\u001b[0m \u001b[0medgelist\u001b[0m\u001b[0;34m]\u001b[0m\u001b[0;34m)\u001b[0m\u001b[0;34m\u001b[0m\u001b[0;34m\u001b[0m\u001b[0m\n\u001b[1;32m    516\u001b[0m \u001b[0;34m\u001b[0m\u001b[0m\n\u001b[0;32m--> 517\u001b[0;31m     \u001b[0;32mif\u001b[0m \u001b[0;32mnot\u001b[0m \u001b[0mcb\u001b[0m\u001b[0;34m.\u001b[0m\u001b[0miterable\u001b[0m\u001b[0;34m(\u001b[0m\u001b[0mwidth\u001b[0m\u001b[0;34m)\u001b[0m\u001b[0;34m:\u001b[0m\u001b[0;34m\u001b[0m\u001b[0;34m\u001b[0m\u001b[0m\n\u001b[0m\u001b[1;32m    518\u001b[0m         \u001b[0mlw\u001b[0m \u001b[0;34m=\u001b[0m \u001b[0;34m(\u001b[0m\u001b[0mwidth\u001b[0m\u001b[0;34m,\u001b[0m\u001b[0;34m)\u001b[0m\u001b[0;34m\u001b[0m\u001b[0;34m\u001b[0m\u001b[0m\n\u001b[1;32m    519\u001b[0m     \u001b[0;32melse\u001b[0m\u001b[0;34m:\u001b[0m\u001b[0;34m\u001b[0m\u001b[0;34m\u001b[0m\u001b[0m\n",
      "\u001b[0;31mAttributeError\u001b[0m: module 'matplotlib.cbook' has no attribute 'iterable'"
     ]
    },
    {
     "data": {
      "image/png": "[encoded data removed]",
      "text/plain": [
       "<Figure size 432x288 with 1 Axes>"
      ]
     },
     "metadata": {
      "needs_background": "light"
     },
     "output_type": "display_data"
    }
   ],
   "source": [
    "nx.draw_networkx(subgraph_test)"
   ]
  },
  {
   "cell_type": "markdown",
   "id": "6998a0b8",
   "metadata": {},
   "source": [
    "We can use the built in diameter function to determine the diameter of this subgraph."
   ]
  },
  {
   "cell_type": "code",
   "execution_count": 20,
   "id": "2199ca57",
   "metadata": {},
   "outputs": [],
   "source": [
    "diameter_test = nx.diameter(subgraph_test)"
   ]
  },
  {
   "cell_type": "code",
   "execution_count": 21,
   "id": "94751579",
   "metadata": {},
   "outputs": [
    {
     "name": "stdout",
     "output_type": "stream",
     "text": [
      "The diameter is:  6\n"
     ]
    }
   ],
   "source": [
    "print(\"The diameter is: \", diameter_test)"
   ]
  },
  {
   "cell_type": "markdown",
   "id": "38817122",
   "metadata": {},
   "source": [
    "We can also look at top nodes based on some of our centrality measures, e.g. degree centrality, closeness, and betweenness. We start by pulling the sorted_map function from [the textbook's repo](https://www.oreilly.com/library/view/social-network-analysis/9781449311377/), then using different NetworkX built in centrality functions. "
   ]
  },
  {
   "cell_type": "code",
   "execution_count": 22,
   "id": "e9e34de8",
   "metadata": {},
   "outputs": [],
   "source": [
    "def sorted_map(dd: dict) -> dict:\n",
    "    \"\"\"\n",
    "    Sorts dict by its values (desc)\n",
    "    \n",
    "    :param dd: dictionary with numeric values\n",
    "    :return sorted dictionary ordered by its numeric value\n",
    "    \"\"\"\n",
    "    sorted_dict = sorted(dd.items(), key=lambda x: (-x[1], x[0]))\n",
    "    return sorted_dict"
   ]
  },
  {
   "cell_type": "code",
   "execution_count": 23,
   "id": "d017e5a3",
   "metadata": {},
   "outputs": [
    {
     "data": {
      "text/plain": [
       "[('McCarthy, Kevin', 0.22284908321579688),\n",
       " ('Majority Cmte PAC', 0.1706629055007052),\n",
       " ('Scalise, Steve', 0.1466854724964739),\n",
       " ('Luetkemeyer, Blaine', 0.12552891396332863),\n",
       " ('Hudson, Richard', 0.10155148095909731),\n",
       " ('American Bankers Assn', 0.09449929478138222),\n",
       " ('Stefanik, Elise', 0.09449929478138222),\n",
       " ('Marshall, Roger', 0.09026798307475317),\n",
       " ('Graves, Sam', 0.08603667136812412),\n",
       " ('National Auto Dealers Assn', 0.0846262341325811)]"
      ]
     },
     "execution_count": 23,
     "metadata": {},
     "output_type": "execute_result"
    }
   ],
   "source": [
    "d = nx.degree_centrality(subgraph_test)\n",
    "ds = sorted_map(d)\n",
    "ds[:10]"
   ]
  },
  {
   "cell_type": "code",
   "execution_count": 24,
   "id": "fd9d31b7",
   "metadata": {},
   "outputs": [
    {
     "data": {
      "text/plain": [
       "[('Majority Cmte PAC', 0.47583892617449663),\n",
       " ('American Bankers Assn', 0.4425717852684145),\n",
       " ('National Auto Dealers Assn', 0.43443627450980393),\n",
       " ('McCarthy, Kevin', 0.4180424528301887),\n",
       " ('American Crystal Sugar', 0.4141355140186916),\n",
       " ('National Assn of Realtors', 0.4122093023255814),\n",
       " ('Comcast Corp', 0.4065366972477064),\n",
       " ('AT&T Inc', 0.40101809954751133),\n",
       " ('Koch Industries', 0.3978675645342312),\n",
       " ('Scalise, Steve', 0.39214601769911506)]"
      ]
     },
     "execution_count": 24,
     "metadata": {},
     "output_type": "execute_result"
    }
   ],
   "source": [
    "c = nx.closeness_centrality(subgraph_test)\n",
    "cs = sorted_map(c)\n",
    "cs[:10]"
   ]
  },
  {
   "cell_type": "code",
   "execution_count": 25,
   "id": "bc5404ba",
   "metadata": {},
   "outputs": [
    {
     "data": {
      "text/plain": [
       "[('Majority Cmte PAC', 0.17282877117345324),\n",
       " ('McCarthy, Kevin', 0.16931791360004345),\n",
       " ('Luetkemeyer, Blaine', 0.09260890526740499),\n",
       " ('Scalise, Steve', 0.07678017910891104),\n",
       " ('Hyde-Smith, Cindy', 0.06477478319404831),\n",
       " ('American Bankers Assn', 0.059420459128166014),\n",
       " ('Hudson, Richard', 0.05398386178323799),\n",
       " ('Marshall, Roger', 0.053670599744799354),\n",
       " ('National Auto Dealers Assn', 0.05243269238376074),\n",
       " ('Graves, Sam', 0.051492943847402814)]"
      ]
     },
     "execution_count": 25,
     "metadata": {},
     "output_type": "execute_result"
    }
   ],
   "source": [
    "b = nx.betweenness_centrality(subgraph_test)\n",
    "bs = sorted_map(b)\n",
    "bs[:10]"
   ]
  },
  {
   "cell_type": "markdown",
   "id": "d95301b8",
   "metadata": {},
   "source": [
    "There are some consistent names across all 3."
   ]
  },
  {
   "cell_type": "code",
   "execution_count": 26,
   "id": "0df42b5f",
   "metadata": {},
   "outputs": [
    {
     "data": {
      "text/plain": [
       "'1.11'"
      ]
     },
     "execution_count": 26,
     "metadata": {},
     "output_type": "execute_result"
    }
   ],
   "source": [
    "nx.__version__"
   ]
  },
  {
   "cell_type": "code",
   "execution_count": 27,
   "id": "cd3828c3",
   "metadata": {},
   "outputs": [],
   "source": [
    "nx.write_graphml(subgraph_test, \"subgraph_test.graphml\")"
   ]
  },
  {
   "cell_type": "code",
   "execution_count": 28,
   "id": "503591a9",
   "metadata": {},
   "outputs": [],
   "source": [
    "from IPython.display import IFrame"
   ]
  },
  {
   "cell_type": "code",
   "execution_count": 36,
   "id": "7d3a72e3",
   "metadata": {},
   "outputs": [
    {
     "data": {
      "text/html": [
       "\n",
       "        <iframe\n",
       "            width=\"1200\"\n",
       "            height=\"1200\"\n",
       "            src=\"subtester.svg\"\n",
       "            frameborder=\"0\"\n",
       "            allowfullscreen\n",
       "        ></iframe>\n",
       "        "
      ],
      "text/plain": [
       "<IPython.lib.display.IFrame at 0x13c123b50>"
      ]
     },
     "execution_count": 36,
     "metadata": {},
     "output_type": "execute_result"
    }
   ],
   "source": [
    "IFrame('subtester.svg', width=1200, height=1200)"
   ]
  },
  {
   "cell_type": "code",
   "execution_count": null,
   "id": "f132b047",
   "metadata": {},
   "outputs": [],
   "source": []
  }
 ],
 "metadata": {
  "kernelspec": {
   "display_name": "Python 3",
   "language": "python",
   "name": "python3"
  },
  "language_info": {
   "codemirror_mode": {
    "name": "ipython",
    "version": 3
   },
   "file_extension": ".py",
   "mimetype": "text/x-python",
   "name": "python",
   "nbconvert_exporter": "python",
   "pygments_lexer": "ipython3",
   "version": "3.7.10"
  }
 },
 "nbformat": 4,
 "nbformat_minor": 5
}
